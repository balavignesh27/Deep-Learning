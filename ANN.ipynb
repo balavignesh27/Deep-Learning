{
 "cells": [
  {
   "cell_type": "code",
   "execution_count": 1,
   "metadata": {},
   "outputs": [],
   "source": [
    "import pandas as pd\n",
    "import numpy as np\n",
    "import matplotlib.pyplot as plt"
   ]
  },
  {
   "cell_type": "code",
   "execution_count": 2,
   "metadata": {},
   "outputs": [],
   "source": [
    "df = pd.read_csv(r'C:\\Users\\admin\\Downloads\\churn_modelling.csv')"
   ]
  },
  {
   "cell_type": "code",
   "execution_count": 3,
   "metadata": {},
   "outputs": [
    {
     "data": {
      "text/html": [
       "<div>\n",
       "<style scoped>\n",
       "    .dataframe tbody tr th:only-of-type {\n",
       "        vertical-align: middle;\n",
       "    }\n",
       "\n",
       "    .dataframe tbody tr th {\n",
       "        vertical-align: top;\n",
       "    }\n",
       "\n",
       "    .dataframe thead th {\n",
       "        text-align: right;\n",
       "    }\n",
       "</style>\n",
       "<table border=\"1\" class=\"dataframe\">\n",
       "  <thead>\n",
       "    <tr style=\"text-align: right;\">\n",
       "      <th></th>\n",
       "      <th>RowNumber</th>\n",
       "      <th>CustomerId</th>\n",
       "      <th>Surname</th>\n",
       "      <th>CreditScore</th>\n",
       "      <th>Geography</th>\n",
       "      <th>Gender</th>\n",
       "      <th>Age</th>\n",
       "      <th>Tenure</th>\n",
       "      <th>Balance</th>\n",
       "      <th>NumOfProducts</th>\n",
       "      <th>HasCrCard</th>\n",
       "      <th>IsActiveMember</th>\n",
       "      <th>EstimatedSalary</th>\n",
       "      <th>Exited</th>\n",
       "    </tr>\n",
       "  </thead>\n",
       "  <tbody>\n",
       "    <tr>\n",
       "      <th>0</th>\n",
       "      <td>1</td>\n",
       "      <td>15634602</td>\n",
       "      <td>Hargrave</td>\n",
       "      <td>619</td>\n",
       "      <td>France</td>\n",
       "      <td>Female</td>\n",
       "      <td>42</td>\n",
       "      <td>2</td>\n",
       "      <td>0.00</td>\n",
       "      <td>1</td>\n",
       "      <td>1</td>\n",
       "      <td>1</td>\n",
       "      <td>101348.88</td>\n",
       "      <td>1</td>\n",
       "    </tr>\n",
       "    <tr>\n",
       "      <th>1</th>\n",
       "      <td>2</td>\n",
       "      <td>15647311</td>\n",
       "      <td>Hill</td>\n",
       "      <td>608</td>\n",
       "      <td>Spain</td>\n",
       "      <td>Female</td>\n",
       "      <td>41</td>\n",
       "      <td>1</td>\n",
       "      <td>83807.86</td>\n",
       "      <td>1</td>\n",
       "      <td>0</td>\n",
       "      <td>1</td>\n",
       "      <td>112542.58</td>\n",
       "      <td>0</td>\n",
       "    </tr>\n",
       "    <tr>\n",
       "      <th>2</th>\n",
       "      <td>3</td>\n",
       "      <td>15619304</td>\n",
       "      <td>Onio</td>\n",
       "      <td>502</td>\n",
       "      <td>France</td>\n",
       "      <td>Female</td>\n",
       "      <td>42</td>\n",
       "      <td>8</td>\n",
       "      <td>159660.80</td>\n",
       "      <td>3</td>\n",
       "      <td>1</td>\n",
       "      <td>0</td>\n",
       "      <td>113931.57</td>\n",
       "      <td>1</td>\n",
       "    </tr>\n",
       "    <tr>\n",
       "      <th>3</th>\n",
       "      <td>4</td>\n",
       "      <td>15701354</td>\n",
       "      <td>Boni</td>\n",
       "      <td>699</td>\n",
       "      <td>France</td>\n",
       "      <td>Female</td>\n",
       "      <td>39</td>\n",
       "      <td>1</td>\n",
       "      <td>0.00</td>\n",
       "      <td>2</td>\n",
       "      <td>0</td>\n",
       "      <td>0</td>\n",
       "      <td>93826.63</td>\n",
       "      <td>0</td>\n",
       "    </tr>\n",
       "    <tr>\n",
       "      <th>4</th>\n",
       "      <td>5</td>\n",
       "      <td>15737888</td>\n",
       "      <td>Mitchell</td>\n",
       "      <td>850</td>\n",
       "      <td>Spain</td>\n",
       "      <td>Female</td>\n",
       "      <td>43</td>\n",
       "      <td>2</td>\n",
       "      <td>125510.82</td>\n",
       "      <td>1</td>\n",
       "      <td>1</td>\n",
       "      <td>1</td>\n",
       "      <td>79084.10</td>\n",
       "      <td>0</td>\n",
       "    </tr>\n",
       "    <tr>\n",
       "      <th>5</th>\n",
       "      <td>6</td>\n",
       "      <td>15574012</td>\n",
       "      <td>Chu</td>\n",
       "      <td>645</td>\n",
       "      <td>Spain</td>\n",
       "      <td>Male</td>\n",
       "      <td>44</td>\n",
       "      <td>8</td>\n",
       "      <td>113755.78</td>\n",
       "      <td>2</td>\n",
       "      <td>1</td>\n",
       "      <td>0</td>\n",
       "      <td>149756.71</td>\n",
       "      <td>1</td>\n",
       "    </tr>\n",
       "    <tr>\n",
       "      <th>6</th>\n",
       "      <td>7</td>\n",
       "      <td>15592531</td>\n",
       "      <td>Bartlett</td>\n",
       "      <td>822</td>\n",
       "      <td>France</td>\n",
       "      <td>Male</td>\n",
       "      <td>50</td>\n",
       "      <td>7</td>\n",
       "      <td>0.00</td>\n",
       "      <td>2</td>\n",
       "      <td>1</td>\n",
       "      <td>1</td>\n",
       "      <td>10062.80</td>\n",
       "      <td>0</td>\n",
       "    </tr>\n",
       "    <tr>\n",
       "      <th>7</th>\n",
       "      <td>8</td>\n",
       "      <td>15656148</td>\n",
       "      <td>Obinna</td>\n",
       "      <td>376</td>\n",
       "      <td>Germany</td>\n",
       "      <td>Female</td>\n",
       "      <td>29</td>\n",
       "      <td>4</td>\n",
       "      <td>115046.74</td>\n",
       "      <td>4</td>\n",
       "      <td>1</td>\n",
       "      <td>0</td>\n",
       "      <td>119346.88</td>\n",
       "      <td>1</td>\n",
       "    </tr>\n",
       "    <tr>\n",
       "      <th>8</th>\n",
       "      <td>9</td>\n",
       "      <td>15792365</td>\n",
       "      <td>He</td>\n",
       "      <td>501</td>\n",
       "      <td>France</td>\n",
       "      <td>Male</td>\n",
       "      <td>44</td>\n",
       "      <td>4</td>\n",
       "      <td>142051.07</td>\n",
       "      <td>2</td>\n",
       "      <td>0</td>\n",
       "      <td>1</td>\n",
       "      <td>74940.50</td>\n",
       "      <td>0</td>\n",
       "    </tr>\n",
       "    <tr>\n",
       "      <th>9</th>\n",
       "      <td>10</td>\n",
       "      <td>15592389</td>\n",
       "      <td>H?</td>\n",
       "      <td>684</td>\n",
       "      <td>France</td>\n",
       "      <td>Male</td>\n",
       "      <td>27</td>\n",
       "      <td>2</td>\n",
       "      <td>134603.88</td>\n",
       "      <td>1</td>\n",
       "      <td>1</td>\n",
       "      <td>1</td>\n",
       "      <td>71725.73</td>\n",
       "      <td>0</td>\n",
       "    </tr>\n",
       "  </tbody>\n",
       "</table>\n",
       "</div>"
      ],
      "text/plain": [
       "   RowNumber  CustomerId   Surname  CreditScore Geography  Gender  Age  \\\n",
       "0          1    15634602  Hargrave          619    France  Female   42   \n",
       "1          2    15647311      Hill          608     Spain  Female   41   \n",
       "2          3    15619304      Onio          502    France  Female   42   \n",
       "3          4    15701354      Boni          699    France  Female   39   \n",
       "4          5    15737888  Mitchell          850     Spain  Female   43   \n",
       "5          6    15574012       Chu          645     Spain    Male   44   \n",
       "6          7    15592531  Bartlett          822    France    Male   50   \n",
       "7          8    15656148    Obinna          376   Germany  Female   29   \n",
       "8          9    15792365        He          501    France    Male   44   \n",
       "9         10    15592389        H?          684    France    Male   27   \n",
       "\n",
       "   Tenure    Balance  NumOfProducts  HasCrCard  IsActiveMember  \\\n",
       "0       2       0.00              1          1               1   \n",
       "1       1   83807.86              1          0               1   \n",
       "2       8  159660.80              3          1               0   \n",
       "3       1       0.00              2          0               0   \n",
       "4       2  125510.82              1          1               1   \n",
       "5       8  113755.78              2          1               0   \n",
       "6       7       0.00              2          1               1   \n",
       "7       4  115046.74              4          1               0   \n",
       "8       4  142051.07              2          0               1   \n",
       "9       2  134603.88              1          1               1   \n",
       "\n",
       "   EstimatedSalary  Exited  \n",
       "0        101348.88       1  \n",
       "1        112542.58       0  \n",
       "2        113931.57       1  \n",
       "3         93826.63       0  \n",
       "4         79084.10       0  \n",
       "5        149756.71       1  \n",
       "6         10062.80       0  \n",
       "7        119346.88       1  \n",
       "8         74940.50       0  \n",
       "9         71725.73       0  "
      ]
     },
     "execution_count": 3,
     "metadata": {},
     "output_type": "execute_result"
    }
   ],
   "source": [
    "df.head(10)"
   ]
  },
  {
   "cell_type": "code",
   "execution_count": 4,
   "metadata": {},
   "outputs": [
    {
     "data": {
      "text/plain": [
       "(10000, 14)"
      ]
     },
     "execution_count": 4,
     "metadata": {},
     "output_type": "execute_result"
    }
   ],
   "source": [
    "df.shape"
   ]
  },
  {
   "cell_type": "code",
   "execution_count": 5,
   "metadata": {},
   "outputs": [],
   "source": [
    "X = df.iloc[:,3:13]\n",
    "Y = df.iloc[:,13:14]"
   ]
  },
  {
   "cell_type": "code",
   "execution_count": 6,
   "metadata": {},
   "outputs": [
    {
     "data": {
      "text/plain": [
       "CreditScore          int64\n",
       "Geography           object\n",
       "Gender              object\n",
       "Age                  int64\n",
       "Tenure               int64\n",
       "Balance            float64\n",
       "NumOfProducts        int64\n",
       "HasCrCard            int64\n",
       "IsActiveMember       int64\n",
       "EstimatedSalary    float64\n",
       "dtype: object"
      ]
     },
     "execution_count": 6,
     "metadata": {},
     "output_type": "execute_result"
    }
   ],
   "source": [
    "X.dtypes"
   ]
  },
  {
   "cell_type": "code",
   "execution_count": 7,
   "metadata": {},
   "outputs": [],
   "source": [
    "geography = pd.get_dummies(X['Geography'],drop_first=True)\n",
    "gender = pd.get_dummies(X['Gender'],drop_first=True)"
   ]
  },
  {
   "cell_type": "code",
   "execution_count": 8,
   "metadata": {},
   "outputs": [],
   "source": [
    "X = pd.concat([X,geography,gender],axis=1)"
   ]
  },
  {
   "cell_type": "code",
   "execution_count": 9,
   "metadata": {},
   "outputs": [],
   "source": [
    "X = X.drop(['Geography','Gender'],axis=1)"
   ]
  },
  {
   "cell_type": "code",
   "execution_count": 10,
   "metadata": {},
   "outputs": [
    {
     "data": {
      "text/html": [
       "<div>\n",
       "<style scoped>\n",
       "    .dataframe tbody tr th:only-of-type {\n",
       "        vertical-align: middle;\n",
       "    }\n",
       "\n",
       "    .dataframe tbody tr th {\n",
       "        vertical-align: top;\n",
       "    }\n",
       "\n",
       "    .dataframe thead th {\n",
       "        text-align: right;\n",
       "    }\n",
       "</style>\n",
       "<table border=\"1\" class=\"dataframe\">\n",
       "  <thead>\n",
       "    <tr style=\"text-align: right;\">\n",
       "      <th></th>\n",
       "      <th>CreditScore</th>\n",
       "      <th>Age</th>\n",
       "      <th>Tenure</th>\n",
       "      <th>Balance</th>\n",
       "      <th>NumOfProducts</th>\n",
       "      <th>HasCrCard</th>\n",
       "      <th>IsActiveMember</th>\n",
       "      <th>EstimatedSalary</th>\n",
       "      <th>Germany</th>\n",
       "      <th>Spain</th>\n",
       "      <th>Male</th>\n",
       "    </tr>\n",
       "  </thead>\n",
       "  <tbody>\n",
       "    <tr>\n",
       "      <th>0</th>\n",
       "      <td>619</td>\n",
       "      <td>42</td>\n",
       "      <td>2</td>\n",
       "      <td>0.00</td>\n",
       "      <td>1</td>\n",
       "      <td>1</td>\n",
       "      <td>1</td>\n",
       "      <td>101348.88</td>\n",
       "      <td>0</td>\n",
       "      <td>0</td>\n",
       "      <td>0</td>\n",
       "    </tr>\n",
       "    <tr>\n",
       "      <th>1</th>\n",
       "      <td>608</td>\n",
       "      <td>41</td>\n",
       "      <td>1</td>\n",
       "      <td>83807.86</td>\n",
       "      <td>1</td>\n",
       "      <td>0</td>\n",
       "      <td>1</td>\n",
       "      <td>112542.58</td>\n",
       "      <td>0</td>\n",
       "      <td>1</td>\n",
       "      <td>0</td>\n",
       "    </tr>\n",
       "    <tr>\n",
       "      <th>2</th>\n",
       "      <td>502</td>\n",
       "      <td>42</td>\n",
       "      <td>8</td>\n",
       "      <td>159660.80</td>\n",
       "      <td>3</td>\n",
       "      <td>1</td>\n",
       "      <td>0</td>\n",
       "      <td>113931.57</td>\n",
       "      <td>0</td>\n",
       "      <td>0</td>\n",
       "      <td>0</td>\n",
       "    </tr>\n",
       "    <tr>\n",
       "      <th>3</th>\n",
       "      <td>699</td>\n",
       "      <td>39</td>\n",
       "      <td>1</td>\n",
       "      <td>0.00</td>\n",
       "      <td>2</td>\n",
       "      <td>0</td>\n",
       "      <td>0</td>\n",
       "      <td>93826.63</td>\n",
       "      <td>0</td>\n",
       "      <td>0</td>\n",
       "      <td>0</td>\n",
       "    </tr>\n",
       "    <tr>\n",
       "      <th>4</th>\n",
       "      <td>850</td>\n",
       "      <td>43</td>\n",
       "      <td>2</td>\n",
       "      <td>125510.82</td>\n",
       "      <td>1</td>\n",
       "      <td>1</td>\n",
       "      <td>1</td>\n",
       "      <td>79084.10</td>\n",
       "      <td>0</td>\n",
       "      <td>1</td>\n",
       "      <td>0</td>\n",
       "    </tr>\n",
       "  </tbody>\n",
       "</table>\n",
       "</div>"
      ],
      "text/plain": [
       "   CreditScore  Age  Tenure    Balance  NumOfProducts  HasCrCard  \\\n",
       "0          619   42       2       0.00              1          1   \n",
       "1          608   41       1   83807.86              1          0   \n",
       "2          502   42       8  159660.80              3          1   \n",
       "3          699   39       1       0.00              2          0   \n",
       "4          850   43       2  125510.82              1          1   \n",
       "\n",
       "   IsActiveMember  EstimatedSalary  Germany  Spain  Male  \n",
       "0               1        101348.88        0      0     0  \n",
       "1               1        112542.58        0      1     0  \n",
       "2               0        113931.57        0      0     0  \n",
       "3               0         93826.63        0      0     0  \n",
       "4               1         79084.10        0      1     0  "
      ]
     },
     "execution_count": 10,
     "metadata": {},
     "output_type": "execute_result"
    }
   ],
   "source": [
    "X.head()"
   ]
  },
  {
   "cell_type": "code",
   "execution_count": 11,
   "metadata": {},
   "outputs": [
    {
     "data": {
      "text/plain": [
       "3"
      ]
     },
     "execution_count": 11,
     "metadata": {},
     "output_type": "execute_result"
    }
   ],
   "source": [
    "df['Geography'].nunique()"
   ]
  },
  {
   "cell_type": "code",
   "execution_count": 12,
   "metadata": {},
   "outputs": [],
   "source": [
    "from sklearn.preprocessing import StandardScaler"
   ]
  },
  {
   "cell_type": "code",
   "execution_count": 13,
   "metadata": {},
   "outputs": [
    {
     "data": {
      "text/plain": [
       "Index(['CreditScore', 'Age', 'Tenure', 'Balance', 'NumOfProducts', 'HasCrCard',\n",
       "       'IsActiveMember', 'EstimatedSalary'],\n",
       "      dtype='object')"
      ]
     },
     "execution_count": 13,
     "metadata": {},
     "output_type": "execute_result"
    }
   ],
   "source": [
    "columns = X.columns\n",
    "columns = columns[0:-3]\n",
    "columns"
   ]
  },
  {
   "cell_type": "code",
   "execution_count": 14,
   "metadata": {},
   "outputs": [],
   "source": [
    "ss = StandardScaler()\n",
    "for column in columns:\n",
    "    x = X[column]\n",
    "    y = ss.fit_transform(x.values.reshape(-1,1))\n",
    "    X[column] = y"
   ]
  },
  {
   "cell_type": "code",
   "execution_count": 15,
   "metadata": {},
   "outputs": [
    {
     "data": {
      "text/plain": [
       "-4.870326364425637e-16"
      ]
     },
     "execution_count": 15,
     "metadata": {},
     "output_type": "execute_result"
    }
   ],
   "source": [
    "X['CreditScore'].mean()"
   ]
  },
  {
   "cell_type": "code",
   "execution_count": 16,
   "metadata": {},
   "outputs": [
    {
     "data": {
      "text/plain": [
       "1.0000500037503133"
      ]
     },
     "execution_count": 16,
     "metadata": {},
     "output_type": "execute_result"
    }
   ],
   "source": [
    "X['CreditScore'].std()"
   ]
  },
  {
   "cell_type": "code",
   "execution_count": 17,
   "metadata": {},
   "outputs": [],
   "source": [
    "from sklearn.model_selection import train_test_split"
   ]
  },
  {
   "cell_type": "code",
   "execution_count": 18,
   "metadata": {},
   "outputs": [],
   "source": [
    "X_train,X_test,y_train,y_test = train_test_split(X,Y,test_size=0.2,random_state=1)"
   ]
  },
  {
   "cell_type": "code",
   "execution_count": 19,
   "metadata": {},
   "outputs": [],
   "source": [
    "import keras\n",
    "from keras.models import Sequential\n",
    "from keras.layers import Dense\n",
    "from keras.layers import LeakyReLU,PReLU,ELU\n",
    "from keras.layers import Dropout"
   ]
  },
  {
   "cell_type": "code",
   "execution_count": 20,
   "metadata": {},
   "outputs": [],
   "source": [
    "classifier = Sequential()"
   ]
  },
  {
   "cell_type": "code",
   "execution_count": 21,
   "metadata": {},
   "outputs": [
    {
     "data": {
      "text/plain": [
       "(10000, 11)"
      ]
     },
     "execution_count": 21,
     "metadata": {},
     "output_type": "execute_result"
    }
   ],
   "source": [
    "X.shape"
   ]
  },
  {
   "cell_type": "code",
   "execution_count": 30,
   "metadata": {},
   "outputs": [],
   "source": [
    "classifier.add(Dense(units=6,activation='relu'))\n",
    "classifier.add(Dense(units=6,activation='relu'))\n",
    "classifier.add(Dense(units=1,activation='sigmoid'))"
   ]
  },
  {
   "cell_type": "code",
   "execution_count": 33,
   "metadata": {},
   "outputs": [],
   "source": [
    "classifier.compile(optimizer=\"adam\",loss=\"binary_crossentropy\",metrics=['accuracy'])"
   ]
  },
  {
   "cell_type": "code",
   "execution_count": 34,
   "metadata": {},
   "outputs": [
    {
     "name": "stdout",
     "output_type": "stream",
     "text": [
      "Epoch 1/100\n",
      "WARNING:tensorflow:Layer dense is casting an input tensor from dtype float64 to the layer's dtype of float32, which is new behavior in TensorFlow 2.  The layer has dtype float32 because its dtype defaults to floatx.\n",
      "\n",
      "If you intended to run this layer in float32, you can safely ignore this warning. If in doubt, this warning is likely only an issue if you are porting a TensorFlow 1.X model to TensorFlow 2.\n",
      "\n",
      "To change all layers to have dtype float64 by default, call `tf.keras.backend.set_floatx('float64')`. To change just this layer, pass dtype='float64' to the layer constructor. If you are the author of this layer, you can disable autocasting by passing autocast=False to the base Layer constructor.\n",
      "\n",
      "800/800 [==============================] - 0s 402us/step - loss: 0.5112 - accuracy: 0.7753\n",
      "Epoch 2/100\n",
      "800/800 [==============================] - 0s 398us/step - loss: 0.4265 - accuracy: 0.8070\n",
      "Epoch 3/100\n",
      "800/800 [==============================] - 0s 391us/step - loss: 0.3907 - accuracy: 0.8356\n",
      "Epoch 4/100\n",
      "800/800 [==============================] - 0s 405us/step - loss: 0.3705 - accuracy: 0.8462\n",
      "Epoch 5/100\n",
      "800/800 [==============================] - 0s 411us/step - loss: 0.3629 - accuracy: 0.8489\n",
      "Epoch 6/100\n",
      "800/800 [==============================] - 0s 396us/step - loss: 0.3582 - accuracy: 0.8506\n",
      "Epoch 7/100\n",
      "800/800 [==============================] - 0s 395us/step - loss: 0.3562 - accuracy: 0.8505\n",
      "Epoch 8/100\n",
      "800/800 [==============================] - 0s 410us/step - loss: 0.3542 - accuracy: 0.8514\n",
      "Epoch 9/100\n",
      "800/800 [==============================] - 0s 391us/step - loss: 0.3530 - accuracy: 0.8529\n",
      "Epoch 10/100\n",
      "800/800 [==============================] - 0s 400us/step - loss: 0.3509 - accuracy: 0.8530\n",
      "Epoch 11/100\n",
      "800/800 [==============================] - 0s 399us/step - loss: 0.3496 - accuracy: 0.8530\n",
      "Epoch 12/100\n",
      "800/800 [==============================] - 0s 394us/step - loss: 0.3482 - accuracy: 0.8550\n",
      "Epoch 13/100\n",
      "800/800 [==============================] - 0s 394us/step - loss: 0.3465 - accuracy: 0.8579\n",
      "Epoch 14/100\n",
      "800/800 [==============================] - 0s 391us/step - loss: 0.3447 - accuracy: 0.8568\n",
      "Epoch 15/100\n",
      "800/800 [==============================] - 0s 390us/step - loss: 0.3434 - accuracy: 0.8564\n",
      "Epoch 16/100\n",
      "800/800 [==============================] - 0s 414us/step - loss: 0.3419 - accuracy: 0.8585\n",
      "Epoch 17/100\n",
      "800/800 [==============================] - 0s 405us/step - loss: 0.3406 - accuracy: 0.8593\n",
      "Epoch 18/100\n",
      "800/800 [==============================] - 0s 396us/step - loss: 0.3402 - accuracy: 0.8606\n",
      "Epoch 19/100\n",
      "800/800 [==============================] - 0s 414us/step - loss: 0.3393 - accuracy: 0.8618\n",
      "Epoch 20/100\n",
      "800/800 [==============================] - 0s 399us/step - loss: 0.3387 - accuracy: 0.8620\n",
      "Epoch 21/100\n",
      "800/800 [==============================] - 0s 396us/step - loss: 0.3378 - accuracy: 0.8615\n",
      "Epoch 22/100\n",
      "800/800 [==============================] - 0s 393us/step - loss: 0.3383 - accuracy: 0.8620\n",
      "Epoch 23/100\n",
      "800/800 [==============================] - 0s 396us/step - loss: 0.3370 - accuracy: 0.8626\n",
      "Epoch 24/100\n",
      "800/800 [==============================] - 0s 389us/step - loss: 0.3373 - accuracy: 0.8621\n",
      "Epoch 25/100\n",
      "800/800 [==============================] - 0s 388us/step - loss: 0.3373 - accuracy: 0.8610\n",
      "Epoch 26/100\n",
      "800/800 [==============================] - 0s 385us/step - loss: 0.3369 - accuracy: 0.8620\n",
      "Epoch 27/100\n",
      "800/800 [==============================] - 0s 386us/step - loss: 0.3365 - accuracy: 0.8611\n",
      "Epoch 28/100\n",
      "800/800 [==============================] - 0s 386us/step - loss: 0.3365 - accuracy: 0.8611\n",
      "Epoch 29/100\n",
      "800/800 [==============================] - 0s 385us/step - loss: 0.3365 - accuracy: 0.8614\n",
      "Epoch 30/100\n",
      "800/800 [==============================] - 0s 389us/step - loss: 0.3353 - accuracy: 0.8629\n",
      "Epoch 31/100\n",
      "800/800 [==============================] - 0s 384us/step - loss: 0.3358 - accuracy: 0.8615\n",
      "Epoch 32/100\n",
      "800/800 [==============================] - 0s 410us/step - loss: 0.3358 - accuracy: 0.8631\n",
      "Epoch 33/100\n",
      "800/800 [==============================] - 0s 391us/step - loss: 0.3355 - accuracy: 0.8619\n",
      "Epoch 34/100\n",
      "800/800 [==============================] - 0s 386us/step - loss: 0.3350 - accuracy: 0.8625\n",
      "Epoch 35/100\n",
      "800/800 [==============================] - 0s 388us/step - loss: 0.3347 - accuracy: 0.8604\n",
      "Epoch 36/100\n",
      "800/800 [==============================] - 0s 410us/step - loss: 0.3345 - accuracy: 0.8620\n",
      "Epoch 37/100\n",
      "800/800 [==============================] - 0s 409us/step - loss: 0.3347 - accuracy: 0.8621\n",
      "Epoch 38/100\n",
      "800/800 [==============================] - 0s 401us/step - loss: 0.3339 - accuracy: 0.8626\n",
      "Epoch 39/100\n",
      "800/800 [==============================] - 0s 391us/step - loss: 0.3346 - accuracy: 0.8634\n",
      "Epoch 40/100\n",
      "800/800 [==============================] - 0s 390us/step - loss: 0.3335 - accuracy: 0.8612\n",
      "Epoch 41/100\n",
      "800/800 [==============================] - 0s 393us/step - loss: 0.3341 - accuracy: 0.8609\n",
      "Epoch 42/100\n",
      "800/800 [==============================] - 0s 391us/step - loss: 0.3328 - accuracy: 0.8630\n",
      "Epoch 43/100\n",
      "800/800 [==============================] - 0s 389us/step - loss: 0.3334 - accuracy: 0.8621\n",
      "Epoch 44/100\n",
      "800/800 [==============================] - 0s 393us/step - loss: 0.3328 - accuracy: 0.8627\n",
      "Epoch 45/100\n",
      "800/800 [==============================] - 0s 393us/step - loss: 0.3332 - accuracy: 0.8594\n",
      "Epoch 46/100\n",
      "800/800 [==============================] - 0s 388us/step - loss: 0.3330 - accuracy: 0.8630\n",
      "Epoch 47/100\n",
      "800/800 [==============================] - 0s 386us/step - loss: 0.3334 - accuracy: 0.8621\n",
      "Epoch 48/100\n",
      "800/800 [==============================] - 0s 394us/step - loss: 0.3331 - accuracy: 0.8626\n",
      "Epoch 49/100\n",
      "800/800 [==============================] - 0s 404us/step - loss: 0.3332 - accuracy: 0.8614\n",
      "Epoch 50/100\n",
      "800/800 [==============================] - 0s 391us/step - loss: 0.3326 - accuracy: 0.8631\n",
      "Epoch 51/100\n",
      "800/800 [==============================] - 0s 391us/step - loss: 0.3318 - accuracy: 0.8629\n",
      "Epoch 52/100\n",
      "800/800 [==============================] - 0s 389us/step - loss: 0.3319 - accuracy: 0.8631\n",
      "Epoch 53/100\n",
      "800/800 [==============================] - 0s 395us/step - loss: 0.3317 - accuracy: 0.8605\n",
      "Epoch 54/100\n",
      "800/800 [==============================] - 0s 393us/step - loss: 0.3324 - accuracy: 0.8627\n",
      "Epoch 55/100\n",
      "800/800 [==============================] - 0s 391us/step - loss: 0.3320 - accuracy: 0.8618\n",
      "Epoch 56/100\n",
      "800/800 [==============================] - 0s 394us/step - loss: 0.3315 - accuracy: 0.8626\n",
      "Epoch 57/100\n",
      "800/800 [==============================] - 0s 403us/step - loss: 0.3316 - accuracy: 0.8622\n",
      "Epoch 58/100\n",
      "800/800 [==============================] - 0s 390us/step - loss: 0.3317 - accuracy: 0.8610\n",
      "Epoch 59/100\n",
      "800/800 [==============================] - 0s 391us/step - loss: 0.3317 - accuracy: 0.8637\n",
      "Epoch 60/100\n",
      "800/800 [==============================] - 0s 389us/step - loss: 0.3322 - accuracy: 0.8633\n",
      "Epoch 61/100\n",
      "800/800 [==============================] - 0s 390us/step - loss: 0.3307 - accuracy: 0.8619\n",
      "Epoch 62/100\n",
      "800/800 [==============================] - 0s 391us/step - loss: 0.3310 - accuracy: 0.8636\n",
      "Epoch 63/100\n",
      "800/800 [==============================] - 0s 388us/step - loss: 0.3316 - accuracy: 0.8622\n",
      "Epoch 64/100\n",
      "800/800 [==============================] - 0s 395us/step - loss: 0.3306 - accuracy: 0.8636\n",
      "Epoch 65/100\n",
      "800/800 [==============================] - 0s 420us/step - loss: 0.3306 - accuracy: 0.8629\n",
      "Epoch 66/100\n",
      "800/800 [==============================] - 0s 391us/step - loss: 0.3306 - accuracy: 0.8644\n",
      "Epoch 67/100\n",
      "800/800 [==============================] - 0s 391us/step - loss: 0.3310 - accuracy: 0.8616\n",
      "Epoch 68/100\n",
      "800/800 [==============================] - 0s 388us/step - loss: 0.3305 - accuracy: 0.8624\n",
      "Epoch 69/100\n",
      "800/800 [==============================] - 0s 396us/step - loss: 0.3306 - accuracy: 0.8620\n",
      "Epoch 70/100\n",
      "800/800 [==============================] - 0s 400us/step - loss: 0.3306 - accuracy: 0.8649\n",
      "Epoch 71/100\n",
      "800/800 [==============================] - 0s 404us/step - loss: 0.3304 - accuracy: 0.8639\n",
      "Epoch 72/100\n",
      "800/800 [==============================] - 0s 400us/step - loss: 0.3305 - accuracy: 0.8641\n",
      "Epoch 73/100\n"
     ]
    },
    {
     "name": "stdout",
     "output_type": "stream",
     "text": [
      "800/800 [==============================] - 0s 400us/step - loss: 0.3297 - accuracy: 0.8645\n",
      "Epoch 74/100\n",
      "800/800 [==============================] - 0s 400us/step - loss: 0.3298 - accuracy: 0.8640\n",
      "Epoch 75/100\n",
      "800/800 [==============================] - 0s 401us/step - loss: 0.3295 - accuracy: 0.8634\n",
      "Epoch 76/100\n",
      "800/800 [==============================] - 0s 398us/step - loss: 0.3292 - accuracy: 0.8641\n",
      "Epoch 77/100\n",
      "800/800 [==============================] - 0s 404us/step - loss: 0.3301 - accuracy: 0.8622\n",
      "Epoch 78/100\n",
      "800/800 [==============================] - 0s 400us/step - loss: 0.3297 - accuracy: 0.8624\n",
      "Epoch 79/100\n",
      "800/800 [==============================] - 0s 399us/step - loss: 0.3295 - accuracy: 0.8619\n",
      "Epoch 80/100\n",
      "800/800 [==============================] - 0s 403us/step - loss: 0.3297 - accuracy: 0.8630\n",
      "Epoch 81/100\n",
      "800/800 [==============================] - 0s 424us/step - loss: 0.3297 - accuracy: 0.8652\n",
      "Epoch 82/100\n",
      "800/800 [==============================] - 0s 404us/step - loss: 0.3293 - accuracy: 0.8645\n",
      "Epoch 83/100\n",
      "800/800 [==============================] - 0s 403us/step - loss: 0.3292 - accuracy: 0.8625\n",
      "Epoch 84/100\n",
      "800/800 [==============================] - 0s 401us/step - loss: 0.3301 - accuracy: 0.8629\n",
      "Epoch 85/100\n",
      "800/800 [==============================] - 0s 403us/step - loss: 0.3287 - accuracy: 0.8637\n",
      "Epoch 86/100\n",
      "800/800 [==============================] - 0s 423us/step - loss: 0.3299 - accuracy: 0.8621\n",
      "Epoch 87/100\n",
      "800/800 [==============================] - 0s 420us/step - loss: 0.3293 - accuracy: 0.8640\n",
      "Epoch 88/100\n",
      "800/800 [==============================] - 0s 398us/step - loss: 0.3301 - accuracy: 0.8641\n",
      "Epoch 89/100\n",
      "800/800 [==============================] - 0s 401us/step - loss: 0.3289 - accuracy: 0.8631\n",
      "Epoch 90/100\n",
      "800/800 [==============================] - 0s 396us/step - loss: 0.3290 - accuracy: 0.8636\n",
      "Epoch 91/100\n",
      "800/800 [==============================] - 0s 404us/step - loss: 0.3289 - accuracy: 0.8635\n",
      "Epoch 92/100\n",
      "800/800 [==============================] - 0s 415us/step - loss: 0.3290 - accuracy: 0.8630\n",
      "Epoch 93/100\n",
      "800/800 [==============================] - 0s 403us/step - loss: 0.3292 - accuracy: 0.8636\n",
      "Epoch 94/100\n",
      "800/800 [==============================] - 0s 396us/step - loss: 0.3293 - accuracy: 0.8636\n",
      "Epoch 95/100\n",
      "800/800 [==============================] - 0s 406us/step - loss: 0.3291 - accuracy: 0.8634\n",
      "Epoch 96/100\n",
      "800/800 [==============================] - 0s 401us/step - loss: 0.3287 - accuracy: 0.8627\n",
      "Epoch 97/100\n",
      "800/800 [==============================] - 0s 428us/step - loss: 0.3289 - accuracy: 0.8625\n",
      "Epoch 98/100\n",
      "800/800 [==============================] - 0s 409us/step - loss: 0.3288 - accuracy: 0.8641\n",
      "Epoch 99/100\n",
      "800/800 [==============================] - 0s 404us/step - loss: 0.3296 - accuracy: 0.8635\n",
      "Epoch 100/100\n",
      "800/800 [==============================] - 0s 400us/step - loss: 0.3288 - accuracy: 0.8649\n"
     ]
    },
    {
     "data": {
      "text/plain": [
       "<tensorflow.python.keras.callbacks.History at 0x267226acd90>"
      ]
     },
     "execution_count": 34,
     "metadata": {},
     "output_type": "execute_result"
    }
   ],
   "source": [
    "classifier.fit(X_train,y_train,batch_size=10,epochs=100)"
   ]
  },
  {
   "cell_type": "code",
   "execution_count": 35,
   "metadata": {},
   "outputs": [
    {
     "name": "stdout",
     "output_type": "stream",
     "text": [
      "Model: \"sequential\"\n",
      "_________________________________________________________________\n",
      "Layer (type)                 Output Shape              Param #   \n",
      "=================================================================\n",
      "dense (Dense)                (10, 6)                   72        \n",
      "_________________________________________________________________\n",
      "dense_1 (Dense)              (10, 6)                   42        \n",
      "_________________________________________________________________\n",
      "dense_2 (Dense)              (10, 6)                   42        \n",
      "_________________________________________________________________\n",
      "dense_3 (Dense)              (10, 1)                   7         \n",
      "=================================================================\n",
      "Total params: 163\n",
      "Trainable params: 163\n",
      "Non-trainable params: 0\n",
      "_________________________________________________________________\n"
     ]
    }
   ],
   "source": [
    "classifier.summary()"
   ]
  },
  {
   "cell_type": "code",
   "execution_count": 36,
   "metadata": {},
   "outputs": [],
   "source": [
    "y_pred = classifier.predict(X_test)\n",
    "y_pred = (y_pred>0.5)"
   ]
  },
  {
   "cell_type": "code",
   "execution_count": 37,
   "metadata": {},
   "outputs": [],
   "source": [
    "from sklearn.metrics import confusion_matrix\n",
    "from sklearn.metrics import accuracy_score"
   ]
  },
  {
   "cell_type": "code",
   "execution_count": 38,
   "metadata": {},
   "outputs": [
    {
     "data": {
      "text/plain": [
       "array([[1525,  214],\n",
       "       [  60,  201]], dtype=int64)"
      ]
     },
     "execution_count": 38,
     "metadata": {},
     "output_type": "execute_result"
    }
   ],
   "source": [
    "cm = confusion_matrix(y_pred,y_test)\n",
    "cm"
   ]
  },
  {
   "cell_type": "code",
   "execution_count": 39,
   "metadata": {},
   "outputs": [
    {
     "data": {
      "text/plain": [
       "0.863"
      ]
     },
     "execution_count": 39,
     "metadata": {},
     "output_type": "execute_result"
    }
   ],
   "source": [
    "score = accuracy_score(y_pred,y_test)\n",
    "score"
   ]
  },
  {
   "cell_type": "code",
   "execution_count": null,
   "metadata": {},
   "outputs": [],
   "source": []
  }
 ],
 "metadata": {
  "kernelspec": {
   "display_name": "Python 3",
   "language": "python",
   "name": "python3"
  },
  "language_info": {
   "codemirror_mode": {
    "name": "ipython",
    "version": 3
   },
   "file_extension": ".py",
   "mimetype": "text/x-python",
   "name": "python",
   "nbconvert_exporter": "python",
   "pygments_lexer": "ipython3",
   "version": "3.8.3"
  }
 },
 "nbformat": 4,
 "nbformat_minor": 4
}
